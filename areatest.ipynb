{
  "nbformat": 4,
  "nbformat_minor": 0,
  "metadata": {
    "colab": {
      "provenance": [],
      "authorship_tag": "ABX9TyOnBgLX7Ao5IvBS4drT9mE+",
      "include_colab_link": true
    },
    "kernelspec": {
      "name": "python3",
      "display_name": "Python 3"
    },
    "language_info": {
      "name": "python"
    }
  },
  "cells": [
    {
      "cell_type": "markdown",
      "metadata": {
        "id": "view-in-github",
        "colab_type": "text"
      },
      "source": [
        "<a href=\"https://colab.research.google.com/github/warrenjch/area-test/blob/main/areatest.ipynb\" target=\"_parent\"><img src=\"https://colab.research.google.com/assets/colab-badge.svg\" alt=\"Open In Colab\"/></a>"
      ]
    },
    {
      "cell_type": "code",
      "source": [
        "!pip install geopandas"
      ],
      "metadata": {
        "colab": {
          "base_uri": "https://localhost:8080/"
        },
        "id": "AMu9-alih4MP",
        "outputId": "023f32f9-4c30-4f4d-c67e-c8c37be081c4"
      },
      "execution_count": 7,
      "outputs": [
        {
          "output_type": "stream",
          "name": "stdout",
          "text": [
            "Looking in indexes: https://pypi.org/simple, https://us-python.pkg.dev/colab-wheels/public/simple/\n",
            "Collecting geopandas\n",
            "  Downloading geopandas-0.13.2-py3-none-any.whl (1.1 MB)\n",
            "\u001b[2K     \u001b[90m━━━━━━━━━━━━━━━━━━━━━━━━━━━━━━━━━━━━━━━━\u001b[0m \u001b[32m1.1/1.1 MB\u001b[0m \u001b[31m16.0 MB/s\u001b[0m eta \u001b[36m0:00:00\u001b[0m\n",
            "\u001b[?25hCollecting fiona>=1.8.19 (from geopandas)\n",
            "  Downloading Fiona-1.9.4.post1-cp310-cp310-manylinux_2_17_x86_64.manylinux2014_x86_64.whl (16.4 MB)\n",
            "\u001b[2K     \u001b[90m━━━━━━━━━━━━━━━━━━━━━━━━━━━━━━━━━━━━━━━━\u001b[0m \u001b[32m16.4/16.4 MB\u001b[0m \u001b[31m75.8 MB/s\u001b[0m eta \u001b[36m0:00:00\u001b[0m\n",
            "\u001b[?25hRequirement already satisfied: packaging in /usr/local/lib/python3.10/dist-packages (from geopandas) (23.1)\n",
            "Requirement already satisfied: pandas>=1.1.0 in /usr/local/lib/python3.10/dist-packages (from geopandas) (1.5.3)\n",
            "Collecting pyproj>=3.0.1 (from geopandas)\n",
            "  Downloading pyproj-3.6.0-cp310-cp310-manylinux_2_17_x86_64.manylinux2014_x86_64.whl (7.9 MB)\n",
            "\u001b[2K     \u001b[90m━━━━━━━━━━━━━━━━━━━━━━━━━━━━━━━━━━━━━━━━\u001b[0m \u001b[32m7.9/7.9 MB\u001b[0m \u001b[31m86.0 MB/s\u001b[0m eta \u001b[36m0:00:00\u001b[0m\n",
            "\u001b[?25hRequirement already satisfied: shapely>=1.7.1 in /usr/local/lib/python3.10/dist-packages (from geopandas) (2.0.1)\n",
            "Requirement already satisfied: attrs>=19.2.0 in /usr/local/lib/python3.10/dist-packages (from fiona>=1.8.19->geopandas) (23.1.0)\n",
            "Requirement already satisfied: certifi in /usr/local/lib/python3.10/dist-packages (from fiona>=1.8.19->geopandas) (2022.12.7)\n",
            "Requirement already satisfied: click~=8.0 in /usr/local/lib/python3.10/dist-packages (from fiona>=1.8.19->geopandas) (8.1.3)\n",
            "Collecting click-plugins>=1.0 (from fiona>=1.8.19->geopandas)\n",
            "  Downloading click_plugins-1.1.1-py2.py3-none-any.whl (7.5 kB)\n",
            "Collecting cligj>=0.5 (from fiona>=1.8.19->geopandas)\n",
            "  Downloading cligj-0.7.2-py3-none-any.whl (7.1 kB)\n",
            "Requirement already satisfied: six in /usr/local/lib/python3.10/dist-packages (from fiona>=1.8.19->geopandas) (1.16.0)\n",
            "Requirement already satisfied: python-dateutil>=2.8.1 in /usr/local/lib/python3.10/dist-packages (from pandas>=1.1.0->geopandas) (2.8.2)\n",
            "Requirement already satisfied: pytz>=2020.1 in /usr/local/lib/python3.10/dist-packages (from pandas>=1.1.0->geopandas) (2022.7.1)\n",
            "Requirement already satisfied: numpy>=1.21.0 in /usr/local/lib/python3.10/dist-packages (from pandas>=1.1.0->geopandas) (1.22.4)\n",
            "Installing collected packages: pyproj, cligj, click-plugins, fiona, geopandas\n",
            "Successfully installed click-plugins-1.1.1 cligj-0.7.2 fiona-1.9.4.post1 geopandas-0.13.2 pyproj-3.6.0\n"
          ]
        }
      ]
    },
    {
      "cell_type": "code",
      "source": [
        "#for n-sided polygon in 2d\n",
        "import numpy as np\n",
        "import pandas as pd\n",
        "from numpy.linalg import norm\n",
        "from shapely.geometry import Point, Polygon\n",
        "import geopandas as gpd\n",
        "#fast point generation in regular polygon using gpd source: https://www.matecdev.com/posts/random-points-in-polygon.html\n",
        "\n",
        "def Random_Points_in_Bounds(polygon, number):\n",
        "    minx, miny, maxx, maxy = polygon.bounds\n",
        "    x = np.random.uniform(minx, maxx, number)\n",
        "    y = np.random.uniform(miny, maxy, number)\n",
        "    return x, y"
      ],
      "metadata": {
        "id": "lt7HKQId40ct"
      },
      "execution_count": 8,
      "outputs": []
    },
    {
      "cell_type": "code",
      "source": [
        "def pdist(p, vs):\n",
        "  dist_arr = [norm(np.array(np.subtract(v,p))) for v in vs]\n",
        "  f,g = sorted(dist_arr)[0], sorted(dist_arr)[1]\n",
        "  P1, P2 = a[dist_arr.index(f)], a[dist_arr.index(g)]\n",
        "  d = norm(np.cross(np.subtract(p,P1),np.subtract(P1,P2))/norm(np.array(np.subtract(P1,P2))))\n",
        "  return d"
      ],
      "metadata": {
        "id": "0D5CaC4QeYsw"
      },
      "execution_count": 9,
      "outputs": []
    },
    {
      "cell_type": "code",
      "source": [
        "import math\n",
        "\n",
        "n = 3 #limit is approx 150\n",
        "a = [[(1/math.cos(math.pi/n))*(math.cos(math.pi*((1+2*i)/n))),(1/math.cos(math.pi/n))*(math.sin(math.pi*((1+2*i)/n)))] for i in range(n)]\n",
        "polygon = Polygon(a)\n",
        "k = 10000\n",
        "x,y = Random_Points_in_Bounds(polygon, k)\n",
        "p = list(zip(x,y))\n",
        "df = pd.DataFrame()\n",
        "df['points'] = p\n",
        "gdf_poly = gpd.GeoDataFrame(index=[\"myPoly\"], geometry=[polygon])\n",
        "df['points'] = df['points'].apply(Point)\n",
        "gdf_points = gpd.GeoDataFrame(df, geometry='points')\n",
        "Sjoin = gpd.tools.sjoin(gdf_points, gdf_poly, predicate=\"within\", how='left')\n",
        "\n",
        "ptdf = gdf_points[Sjoin.index_right=='myPoly']\n",
        "ptdf.reset_index(drop=True, inplace=True)\n",
        "fp = [[ptdf['points'][i].x, ptdf['points'][i].y] for i in range(ptdf.shape[0])]\n",
        "if len(fp)%2 == 1:\n",
        "  fp = fp[:-1]\n",
        "k = len(fp)"
      ],
      "metadata": {
        "id": "1QVReUbW5KU2"
      },
      "execution_count": 10,
      "outputs": []
    },
    {
      "cell_type": "code",
      "source": [
        "m = [[(fp[2*i][0]+fp[2*i+1][0])/2,(fp[2*i][1]+fp[2*i+1][1])/2] for i in range(int(k/2))]\n",
        "f = [[fp[2*i], m[i], pdist(m[i],a)] for i in range(int(k/2))]\n",
        "valid = [1 if (norm(np.array(np.subtract(i[0],i[1])))<i[2]) else 0 for i in f]\n",
        "print(np.sum(valid)/len(valid))"
      ],
      "metadata": {
        "colab": {
          "base_uri": "https://localhost:8080/"
        },
        "id": "6H8MNtoi6gAQ",
        "outputId": "3506a625-ced8-4255-cbfe-5da45e69ed20"
      },
      "execution_count": 11,
      "outputs": [
        {
          "output_type": "stream",
          "name": "stdout",
          "text": [
            "0.40290088638195004\n"
          ]
        }
      ]
    },
    {
      "cell_type": "code",
      "source": [
        "#theoretical answer\n",
        "print(2*np.pi/(3*n*np.tan(np.pi/n)))"
      ],
      "metadata": {
        "colab": {
          "base_uri": "https://localhost:8080/"
        },
        "id": "rLhVmEEShuZ1",
        "outputId": "c6080f74-5f0b-4b55-ccff-4180df819f6f"
      },
      "execution_count": 13,
      "outputs": [
        {
          "output_type": "stream",
          "name": "stdout",
          "text": [
            "0.40306652538538185\n"
          ]
        }
      ]
    },
    {
      "cell_type": "code",
      "source": [
        "# for checking\n",
        "import matplotlib.pyplot as plt\n",
        "xplot, yplot = np.array(m).T\n",
        "plt.scatter(xplot,yplot)\n",
        "plt.rcParams['figure.figsize'] = [4, 3]\n",
        "plt.plot()"
      ],
      "metadata": {
        "colab": {
          "base_uri": "https://localhost:8080/",
          "height": 385
        },
        "id": "8bgS36yxkFz8",
        "outputId": "7ebf8bee-7961-42df-86b2-f7b6ba21bd52"
      },
      "execution_count": null,
      "outputs": [
        {
          "output_type": "execute_result",
          "data": {
            "text/plain": [
              "[]"
            ]
          },
          "metadata": {},
          "execution_count": 81
        },
        {
          "output_type": "display_data",
          "data": {
            "text/plain": [
              "<Figure size 400x400 with 1 Axes>"
            ],
            "image/png": "[encoded data removed]"
          },
          "metadata": {}
        }
      ]
    },
    {
      "cell_type": "code",
      "source": [
        "#for n-ball\n",
        "import numpy as np\n",
        "import pandas as pd\n",
        "from numpy.linalg import norm\n",
        "#method: https://extremelearning.com.au/how-to-generate-uniformly-random-points-on-n-spheres-and-n-balls/ Muller method 20\n",
        "\n",
        "dim = 5\n",
        "k = 100000\n",
        "def gen_v(d):\n",
        "  u1 = np.array(np.random.normal(0,1,d))\n",
        "  v1 = np.random.uniform()**(1.0/d)*u1/norm(u1)\n",
        "  u2 = np.array(np.random.normal(0,1,d))\n",
        "  v2 = np.random.uniform()**(1.0/d)*u2/norm(u2)\n",
        "  m = np.add(v1,v2)/2\n",
        "  dist = norm(np.subtract(v1,m))\n",
        "  r = norm(m)\n",
        "  if dist>(1-r):\n",
        "    return 0\n",
        "  else:\n",
        "    return 1\n",
        "a = np.array([gen_v(dim) for i in range(k)])\n",
        "print(np.sum(a)/k)"
      ],
      "metadata": {
        "colab": {
          "base_uri": "https://localhost:8080/"
        },
        "id": "dRjTZL90ddPX",
        "outputId": "88a03bca-236d-46c3-8bee-ea6da0822f94"
      },
      "execution_count": 16,
      "outputs": [
        {
          "output_type": "stream",
          "name": "stdout",
          "text": [
            "0.12735\n"
          ]
        }
      ]
    }
  ]
}